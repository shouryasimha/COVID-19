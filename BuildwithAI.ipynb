{
 "cells": [
  {
   "cell_type": "code",
   "execution_count": 245,
   "metadata": {},
   "outputs": [],
   "source": [
    "import pandas as pd\n",
    "import numpy as np\n",
    "import matplotlib.pyplot as plt\n",
    "import seaborn as sns\n",
    "import os\n",
    "from datetime import datetime\n",
    "from datetime import timedelta\n",
    "from statsmodels.tsa.vector_ar.var_model import VAR\n",
    "import math\n",
    "from sklearn.metrics import mean_squared_error\n",
    "from sklearn.metrics import r2_score\n",
    "import pickle"
   ]
  },
  {
   "cell_type": "markdown",
   "metadata": {},
   "source": [
    "# Aggregating all the files to create a final dataset"
   ]
  },
  {
   "cell_type": "code",
   "execution_count": 246,
   "metadata": {},
   "outputs": [],
   "source": [
    "# data=pd.concat([pd.read_csv(filename)\n",
    "#            for filename in os.listdir()\n",
    "#            if '.csv' in filename])\n",
    "# data.head()\n",
    "data = pd.read_csv('combined_dataset.csv')\n",
    "population = pd.read_csv('Population_state.csv')\n",
    "data=data[data['Lat'].notna()]\n"
   ]
  },
  {
   "cell_type": "markdown",
   "metadata": {},
   "source": [
    "#### 1)Dropping rows that have lat and long =NaN(as they correspond to the cases in ships)\n",
    "#### 2)replace Nan in recovered,active,mortality rate,Hospitalization Rate, people Hospitalized with \"0\"\n",
    "#### 3) changing data type of last_update to date"
   ]
  },
  {
   "cell_type": "code",
   "execution_count": 247,
   "metadata": {},
   "outputs": [],
   "source": [
    "def preprocess(data):\n",
    "    values={'Recovered':0,'Active':0,'Mortality_Rate':0,'People_Hospitalized':0,'Hospitalization_Rate':0}\n",
    "    data.fillna(value=values,inplace=True)\n",
    "    data['Last_Update'].fillna('2020-07-22 04:34:54',inplace=True)\n",
    "    data['time'] = pd.to_datetime(data['Last_Update'])\n",
    "    data['dates'] = data['time'].dt.date\n",
    "    data['Recovered'] = data['Recovered'].astype('int64',inplace=True)\n",
    "    data['Active'] = data['Active'].astype('int64',inplace=True)\n",
    "    data.drop(['FIPS','UID','Country_Region','Unnamed: 0','Lat','Long_','ISO3','Last_Update','time'],axis=1,inplace=True)\n",
    "    data.rename(columns={'Province_State':'State'},inplace=True)\n",
    "    print(\"The Data is Collected from {} to {}\".format(data['dates'].min(),data['dates'].max()))\n",
    "    return data"
   ]
  },
  {
   "cell_type": "markdown",
   "metadata": {},
   "source": [
    "# Check for Stationarity in our data"
   ]
  },
  {
   "cell_type": "code",
   "execution_count": 55,
   "metadata": {},
   "outputs": [],
   "source": [
    "# data = preprocess(data)\n",
    "# #check for stationarity\n",
    "# final_data = data.drop(['State','dates'],axis=1)\n",
    "# final_data.index = data.dates\n",
    "# final_data.head()\n",
    "# #check for stationarity\n",
    "# from statsmodels.tsa.vector_ar.vecm import coint_johansen\n",
    "# coint_johansen(final_data,-1,1).eig\n",
    "# #Since all the values are not zero, they do exhibit a linear relationship."
   ]
  },
  {
   "cell_type": "markdown",
   "metadata": {},
   "source": [
    "#### FIPS is NaN for US VIRGIN ISLAND"
   ]
  },
  {
   "cell_type": "markdown",
   "metadata": {},
   "source": [
    "#### Reading the Population Data"
   ]
  },
  {
   "cell_type": "code",
   "execution_count": 248,
   "metadata": {},
   "outputs": [],
   "source": [
    "def clean_population(population):\n",
    "    print(\"Total US population for the Year 2019 = \",population['Population'][0])\n",
    "    #drop the first row\n",
    "    population = population[population['State']!='United States']\n",
    "    return population"
   ]
  },
  {
   "cell_type": "code",
   "execution_count": 250,
   "metadata": {},
   "outputs": [],
   "source": [
    "def get_state_data(data,state,population_dataset):\n",
    "    state_data = data[data['State']==str(state)]\n",
    "    final_state_data = state_data.join(population_dataset.set_index('State'),on='State')\n",
    "    final_state_data['population_affected'] = round(final_state_data['Confirmed']/final_state_data['Population'],4)\n",
    "    final_state_data['Suscpetible'] = final_state_data['Population']-final_state_data['Confirmed']\n",
    "    final_data = final_state_data.drop(['State','dates','Population'],axis=1)\n",
    "    print(\"The population of the State is : \",final_state_data['Population'].iloc[0])\n",
    "    final_data.index =final_state_data.dates\n",
    "    return final_data"
   ]
  },
  {
   "cell_type": "code",
   "execution_count": null,
   "metadata": {},
   "outputs": [],
   "source": []
  },
  {
   "cell_type": "code",
   "execution_count": 28,
   "metadata": {},
   "outputs": [],
   "source": [
    "def train_test(state_data):\n",
    "    train = state_data[:int(0.85*(len(state_data)))].drop('Population',axis=1)\n",
    "    test = state_data[int(0.85*(len(state_data))):].drop('Population',axis=1)\n",
    "    return train,test"
   ]
  },
  {
   "cell_type": "code",
   "execution_count": 8,
   "metadata": {},
   "outputs": [],
   "source": [
    "# train,test = train_test(state_data)\n",
    "# cols =train.columns\n",
    "# cols"
   ]
  },
  {
   "cell_type": "code",
   "execution_count": 251,
   "metadata": {},
   "outputs": [],
   "source": [
    "def prediction(data,population):\n",
    "    data = preprocess(data)\n",
    "    population = clean_population(population)\n",
    "    x = input(\"Enter the State : \")\n",
    "    state_data = get_state_data(data,x,population)\n",
    "    last_date = state_data.index.max()\n",
    "    date_entered=input(\"Enter the Date in format: YYYY/MM/DD : \")\n",
    "    user_date=datetime.date(datetime.strptime(date_entered, \"%Y/%m/%d\"))\n",
    "    steps=(user_date-last_date).days\n",
    "    cols =train.columns\n",
    "    model = VAR(endog=state_data)\n",
    "    model_fit = model.fit()\n",
    "    saved_model = pickle.dumps(model_fit)\n",
    "    model2 = pickle.loads(saved_model)\n",
    "    prediction = model2.forecast(model_fit.y, steps=len(test))\n",
    "    pred = pd.DataFrame(index=range(0,len(prediction)),columns=[cols])\n",
    "    for j in range(0,12):\n",
    "        for i in range(0, len(prediction)):\n",
    "            pred.iloc[i][j] = prediction[i][j]\n",
    "    # prediction = model_fit.forecast(model_fit.y, steps=len(test))\n",
    "    # pred = pd.DataFrame(index=range(0,len(prediction)),columns=[cols])\n",
    "    return pred"
   ]
  },
  {
   "cell_type": "code",
   "execution_count": 252,
   "metadata": {},
   "outputs": [
    {
     "name": "stdout",
     "output_type": "stream",
     "text": [
      "The Data is Collected from 2020-04-12 to 2020-07-22\n",
      "Total US population for the Year 2019 =  328239523.0\n",
      "Enter the State : Virginia\n",
      "The population of the State is :  8535519.0\n",
      "Enter the Date in format: YYYY/MM/DD : 2020/08/10\n"
     ]
    },
    {
     "name": "stderr",
     "output_type": "stream",
     "text": [
      "C:\\Users\\Public\\Anaconda3\\lib\\site-packages\\statsmodels\\tsa\\base\\tsa_model.py:219: ValueWarning: A date index has been provided, but it has no associated frequency information and so will be ignored when e.g. forecasting.\n",
      "  ' ignored when e.g. forecasting.', ValueWarning)\n"
     ]
    }
   ],
   "source": [
    "pred =prediction(data,population)"
   ]
  },
  {
   "cell_type": "code",
   "execution_count": 158,
   "metadata": {},
   "outputs": [],
   "source": [
    "def conf_interval(pred,str(column)):\n",
    "    lower = pred['column'].iloc[-1]-1.96*pred['column'].std()\n",
    "    upper = pred['column'].iloc[-1]+1.96*pred['column'].std()\n",
    "    return lower,upper"
   ]
  },
  {
   "cell_type": "code",
   "execution_count": 253,
   "metadata": {},
   "outputs": [
    {
     "name": "stdout",
     "output_type": "stream",
     "text": [
      "The Number of Confirmed Cases will be in the Following Range :  Confirmed    84290.0\n",
      "dtype: float64 -  Confirmed    97256.0\n",
      "dtype: float64\n",
      "The Number of Deaths will be in the Following Range :  Deaths    2081.0\n",
      "dtype: float64 -  Deaths    2167.0\n",
      "dtype: float64\n",
      "The Number of Recovered Cases will be in the Following Range :  Recovered    10731.0\n",
      "dtype: float64 -  Recovered    12113.0\n",
      "dtype: float64\n",
      "The Number of Active Cases will be in the Following Range :  Active    71350.0\n",
      "dtype: float64 -  Active    82901.0\n",
      "dtype: float64\n",
      "The Number of People Tested will be in the Following Range :  People_Tested    1060455.0\n",
      "dtype: float64 -  People_Tested    1401283.0\n",
      "dtype: float64\n",
      "The Number of People that have not yet been affected will be in the Following Range :  Suscpetible    8438263.0\n",
      "dtype: float64 -  Suscpetible    8451229.0\n",
      "dtype: float64\n"
     ]
    }
   ],
   "source": [
    "print(\"The Number of Confirmed Cases will be in the Following Range :  {} -  {}\".format(round(pred['Confirmed'].values[-1][0] - 1.96 * pred['Confirmed'].std()),round(pred['Confirmed'].values[-1][0] + 1.96 * pred['Confirmed'].std())))\n",
    "print(\"The Number of Deaths will be in the Following Range :  {} -  {}\".format(round(pred['Deaths'].values[-1][0] - 1.96 * pred['Deaths'].std()),round(pred['Deaths'].values[-1][0] + 1.96 * pred['Deaths'].std())))\n",
    "print(\"The Number of Recovered Cases will be in the Following Range :  {} -  {}\".format(round(pred['Recovered'].values[-1][0] - 1.96 * pred['Recovered'].std()),round(pred['Recovered'].values[-1][0] + 1.96 * pred['Recovered'].std())))\n",
    "print(\"The Number of Active Cases will be in the Following Range :  {} -  {}\".format(round(pred['Active'].values[-1][0] - 1.96 * pred['Active'].std()),round(pred['Active'].values[-1][0] + 1.96 * pred['Active'].std())))\n",
    "print(\"The Number of People Tested will be in the Following Range :  {} -  {}\".format(round(pred['People_Tested'].values[-1][0] - 1.96 * pred['People_Tested'].std()),round(pred['People_Tested'].values[-1][0] + 1.96 * pred['People_Tested'].std())))\n",
    "print(\"The Number of People that have not yet been affected will be in the Following Range :  {} -  {}\".format(round(pred['Suscpetible'].values[-1][0] - 1.96 * pred['Suscpetible'].std()),round(pred['Suscpetible'].values[-1][0] + 1.96 * pred['Suscpetible'].std())))\n"
   ]
  },
  {
   "cell_type": "code",
   "execution_count": 191,
   "metadata": {},
   "outputs": [
    {
     "name": "stdout",
     "output_type": "stream",
     "text": [
      "The Number of Recovered Cases will be in the Following Range :  Recovered    0.0\n",
      "dtype: float64 -  Recovered    0.0\n",
      "dtype: float64\n",
      "The Number of Active Cases will be in the Following Range :  Active    481410.0\n",
      "dtype: float64 -  Active    709040.0\n",
      "dtype: float64\n",
      "The Number of People Tested will be in the Following Range :  People_Tested    7516354.0\n",
      "dtype: float64 -  People_Tested    10316853.0\n",
      "dtype: float64\n",
      "The Number of People that have not yet been affected will be in the Following Range :  Suscpetible    38792471.0\n",
      "dtype: float64 -  Suscpetible    39022192.0\n",
      "dtype: float64\n"
     ]
    }
   ],
   "source": []
  },
  {
   "cell_type": "code",
   "execution_count": 50,
   "metadata": {},
   "outputs": [
    {
     "name": "stdout",
     "output_type": "stream",
     "text": [
      "rmse value for Confirmed is :  1561.4129529823858\n",
      "rmse value for Deaths is :  48.672089094350135\n",
      "rmse value for Recovered is :  59.407803254692304\n",
      "rmse value for Active is :  1749.5636026782859\n",
      "rmse value for Incident_Rate is :  19.20335065525268\n",
      "rmse value for People_Tested is :  19530.252525592372\n",
      "rmse value for People_Hospitalized is :  317.9646878578852\n",
      "rmse value for Mortality_Rate is :  0.08587001386446466\n",
      "rmse value for Testing_Rate is :  238.4090629137005\n",
      "rmse value for Hospitalization_Rate is :  0.42053937045883666\n",
      "rmse value for population_affected is :  0.00018686845716760358\n",
      "rmse value for Suscpetible is :  1561.4129529084455\n"
     ]
    }
   ],
   "source": [
    "#check rmse\n",
    "for i in cols:\n",
    "    print('rmse value for', i, 'is : ', math.sqrt(mean_squared_error(pred[i], test[i])))"
   ]
  },
  {
   "cell_type": "code",
   "execution_count": 51,
   "metadata": {},
   "outputs": [
    {
     "name": "stdout",
     "output_type": "stream",
     "text": [
      "The R-Squared Value for Confirmed is :  0.860009997375905\n",
      "The R-Squared Value for Deaths is :  0.1922653104333183\n",
      "The R-Squared Value for Recovered is :  0.9813998644067488\n",
      "The R-Squared Value for Active is :  0.7751672354937278\n",
      "The R-Squared Value for Incident_Rate is :  0.8457321746877704\n",
      "The R-Squared Value for People_Tested is :  0.9208359238331382\n",
      "The R-Squared Value for People_Hospitalized is :  0.6529396330265943\n",
      "The R-Squared Value for Mortality_Rate is :  0.05080406503147783\n",
      "The R-Squared Value for Testing_Rate is :  0.9140555535453955\n",
      "The R-Squared Value for Hospitalization_Rate is :  -8.269777683454445\n",
      "The R-Squared Value for population_affected is :  0.8535232837497078\n",
      "The R-Squared Value for Suscpetible is :  0.8600099973891635\n"
     ]
    }
   ],
   "source": [
    "#check rmse\n",
    "for i in cols:\n",
    "    print('The R-Squared Value for', i, 'is : ',r2_score(test[i],pred[i]))"
   ]
  },
  {
   "cell_type": "code",
   "execution_count": 24,
   "metadata": {},
   "outputs": [],
   "source": [
    "model?"
   ]
  }
 ],
 "metadata": {
  "kernelspec": {
   "display_name": "Python 3",
   "language": "python",
   "name": "python3"
  },
  "language_info": {
   "codemirror_mode": {
    "name": "ipython",
    "version": 3
   },
   "file_extension": ".py",
   "mimetype": "text/x-python",
   "name": "python",
   "nbconvert_exporter": "python",
   "pygments_lexer": "ipython3",
   "version": "3.7.3"
  }
 },
 "nbformat": 4,
 "nbformat_minor": 2
}
